{
 "cells": [
  {
   "cell_type": "code",
   "execution_count": 1,
   "metadata": {},
   "outputs": [],
   "source": [
    "import pandas as pd"
   ]
  },
  {
   "cell_type": "code",
   "execution_count": 2,
   "metadata": {},
   "outputs": [
    {
     "data": {
      "text/html": [
       "<div>\n",
       "<style scoped>\n",
       "    .dataframe tbody tr th:only-of-type {\n",
       "        vertical-align: middle;\n",
       "    }\n",
       "\n",
       "    .dataframe tbody tr th {\n",
       "        vertical-align: top;\n",
       "    }\n",
       "\n",
       "    .dataframe thead th {\n",
       "        text-align: right;\n",
       "    }\n",
       "</style>\n",
       "<table border=\"1\" class=\"dataframe\">\n",
       "  <thead>\n",
       "    <tr style=\"text-align: right;\">\n",
       "      <th></th>\n",
       "      <th>Purchase ID</th>\n",
       "      <th>SN</th>\n",
       "      <th>Age</th>\n",
       "      <th>Gender</th>\n",
       "      <th>Item ID</th>\n",
       "      <th>Item Name</th>\n",
       "      <th>Price</th>\n",
       "    </tr>\n",
       "  </thead>\n",
       "  <tbody>\n",
       "    <tr>\n",
       "      <td>0</td>\n",
       "      <td>0</td>\n",
       "      <td>Lisim78</td>\n",
       "      <td>20</td>\n",
       "      <td>Male</td>\n",
       "      <td>108</td>\n",
       "      <td>Extraction, Quickblade Of Trembling Hands</td>\n",
       "      <td>3.53</td>\n",
       "    </tr>\n",
       "  </tbody>\n",
       "</table>\n",
       "</div>"
      ],
      "text/plain": [
       "   Purchase ID       SN  Age Gender  Item ID  \\\n",
       "0            0  Lisim78   20   Male      108   \n",
       "\n",
       "                                   Item Name  Price  \n",
       "0  Extraction, Quickblade Of Trembling Hands   3.53  "
      ]
     },
     "execution_count": 2,
     "metadata": {},
     "output_type": "execute_result"
    }
   ],
   "source": [
    "file_to_import = \"../purchase_data.csv\"\n",
    "purchase_data = pd.read_csv('purchase_data.csv')\n",
    "purchase_data.head(1)"
   ]
  },
  {
   "cell_type": "code",
   "execution_count": 3,
   "metadata": {},
   "outputs": [
    {
     "data": {
      "text/plain": [
       "576"
      ]
     },
     "execution_count": 3,
     "metadata": {},
     "output_type": "execute_result"
    }
   ],
   "source": [
    "# Total Players\n",
    "total_players = len(purchase_data[\"SN\"].unique())\n",
    "total_players"
   ]
  },
  {
   "cell_type": "code",
   "execution_count": 4,
   "metadata": {},
   "outputs": [
    {
     "data": {
      "text/plain": [
       "183"
      ]
     },
     "execution_count": 4,
     "metadata": {},
     "output_type": "execute_result"
    }
   ],
   "source": [
    "# Number of Unique Item\n",
    "number_unique = len(purchase_data[\"Item ID\"].unique())\n",
    "number_unique "
   ]
  },
  {
   "cell_type": "code",
   "execution_count": 5,
   "metadata": {},
   "outputs": [
    {
     "data": {
      "text/plain": [
       "3.05"
      ]
     },
     "execution_count": 5,
     "metadata": {},
     "output_type": "execute_result"
    }
   ],
   "source": [
    "# Average Price\n",
    "average_item_price = purchase_data[\"Price\"].mean()\n",
    "pd.options.display.float_format = '${:,.2f}'.format\n",
    "average_item_price.round(2)"
   ]
  },
  {
   "cell_type": "code",
   "execution_count": 6,
   "metadata": {},
   "outputs": [
    {
     "data": {
      "text/plain": [
       "780"
      ]
     },
     "execution_count": 6,
     "metadata": {},
     "output_type": "execute_result"
    }
   ],
   "source": [
    "# Number of Purchases\n",
    "number_purchases = len(purchase_data[\"Purchase ID\"].value_counts())\n",
    "number_purchases "
   ]
  },
  {
   "cell_type": "code",
   "execution_count": 7,
   "metadata": {},
   "outputs": [
    {
     "data": {
      "text/plain": [
       "2379.77"
      ]
     },
     "execution_count": 7,
     "metadata": {},
     "output_type": "execute_result"
    }
   ],
   "source": [
    "# Total Revenue\n",
    "total_revenue = purchase_data[\"Price\"].sum()\n",
    "pd.options.display.float_format = '${:,.2f}'.format\n",
    "total_revenue"
   ]
  },
  {
   "cell_type": "code",
   "execution_count": 8,
   "metadata": {},
   "outputs": [
    {
     "data": {
      "text/html": [
       "<div>\n",
       "<style scoped>\n",
       "    .dataframe tbody tr th:only-of-type {\n",
       "        vertical-align: middle;\n",
       "    }\n",
       "\n",
       "    .dataframe tbody tr th {\n",
       "        vertical-align: top;\n",
       "    }\n",
       "\n",
       "    .dataframe thead th {\n",
       "        text-align: right;\n",
       "    }\n",
       "</style>\n",
       "<table border=\"1\" class=\"dataframe\">\n",
       "  <thead>\n",
       "    <tr style=\"text-align: right;\">\n",
       "      <th></th>\n",
       "      <th>Total Number of Players</th>\n",
       "      <th>Unique Items</th>\n",
       "      <th>Average Price per Item</th>\n",
       "      <th>Number of Purchases</th>\n",
       "      <th>Total Revenue</th>\n",
       "    </tr>\n",
       "  </thead>\n",
       "  <tbody>\n",
       "    <tr>\n",
       "      <td>0</td>\n",
       "      <td>576</td>\n",
       "      <td>183</td>\n",
       "      <td>$3.05</td>\n",
       "      <td>780</td>\n",
       "      <td>$2,379.77</td>\n",
       "    </tr>\n",
       "  </tbody>\n",
       "</table>\n",
       "</div>"
      ],
      "text/plain": [
       "   Total Number of Players  Unique Items  Average Price per Item  \\\n",
       "0                      576           183                   $3.05   \n",
       "\n",
       "   Number of Purchases  Total Revenue  \n",
       "0                  780      $2,379.77  "
      ]
     },
     "execution_count": 8,
     "metadata": {},
     "output_type": "execute_result"
    }
   ],
   "source": [
    "#Purchase Analysis Total\n",
    "summary_table_one = pd.DataFrame({\"Total Number of Players\": total_players, \n",
    "                              \"Unique Items\": number_unique, \n",
    "                              \"Average Price per Item\": average_item_price.round(2),\n",
    "                            \"Number of Purchases\": number_purchases, \n",
    "                             \"Total Revenue\": total_revenue}, index=[0])\n",
    "summary_table_one"
   ]
  },
  {
   "cell_type": "code",
   "execution_count": 9,
   "metadata": {},
   "outputs": [
    {
     "name": "stdout",
     "output_type": "stream",
     "text": [
      "484\n",
      "0.8402777777777778\n"
     ]
    }
   ],
   "source": [
    "#Gender demo Male\n",
    "group_male = purchase_data.groupby([\"Gender\"]).get_group(('Male'))\n",
    "count_male = len(group_male['SN'].unique())\n",
    "print(count_male)\n",
    "\n",
    "percent_male = (count_male/total_players)\n",
    "print(percent_male)"
   ]
  },
  {
   "cell_type": "code",
   "execution_count": 10,
   "metadata": {},
   "outputs": [
    {
     "name": "stdout",
     "output_type": "stream",
     "text": [
      "81\n",
      "0.140625\n"
     ]
    }
   ],
   "source": [
    "#Gender demo Female\n",
    "group_female = purchase_data.groupby([\"Gender\"]).get_group(('Female'))\n",
    "count_female = len(group_female['SN'].unique())\n",
    "print(count_female)\n",
    "\n",
    "percent_female = (count_female/total_players)\n",
    "print(percent_female)"
   ]
  },
  {
   "cell_type": "code",
   "execution_count": 11,
   "metadata": {},
   "outputs": [
    {
     "name": "stdout",
     "output_type": "stream",
     "text": [
      "11\n",
      "0.019097222222222224\n"
     ]
    }
   ],
   "source": [
    "#Gender demo Other\n",
    "group_other = purchase_data.groupby([\"Gender\"]).get_group(('Other / Non-Disclosed'))\n",
    "count_other = len(group_other['SN'].unique())\n",
    "print(count_other)\n",
    "\n",
    "percent_other = (count_other/total_players)\n",
    "print(percent_other)"
   ]
  },
  {
   "cell_type": "code",
   "execution_count": 12,
   "metadata": {},
   "outputs": [
    {
     "data": {
      "text/html": [
       "<style  type=\"text/css\" >\n",
       "</style><table id=\"T_21cf5360_d8a6_11e9_b8af_f07960081566\" ><thead>    <tr>        <th class=\"blank level0\" ></th>        <th class=\"col_heading level0 col0\" >Player Count by Gender</th>        <th class=\"col_heading level0 col1\" >Percentage of Players by Gender</th>    </tr>    <tr>        <th class=\"index_name level0\" >Gender</th>        <th class=\"blank\" ></th>        <th class=\"blank\" ></th>    </tr></thead><tbody>\n",
       "                <tr>\n",
       "                        <th id=\"T_21cf5360_d8a6_11e9_b8af_f07960081566level0_row0\" class=\"row_heading level0 row0\" >Male</th>\n",
       "                        <td id=\"T_21cf5360_d8a6_11e9_b8af_f07960081566row0_col0\" class=\"data row0 col0\" >484</td>\n",
       "                        <td id=\"T_21cf5360_d8a6_11e9_b8af_f07960081566row0_col1\" class=\"data row0 col1\" >84.03%</td>\n",
       "            </tr>\n",
       "            <tr>\n",
       "                        <th id=\"T_21cf5360_d8a6_11e9_b8af_f07960081566level0_row1\" class=\"row_heading level0 row1\" >Female</th>\n",
       "                        <td id=\"T_21cf5360_d8a6_11e9_b8af_f07960081566row1_col0\" class=\"data row1 col0\" >81</td>\n",
       "                        <td id=\"T_21cf5360_d8a6_11e9_b8af_f07960081566row1_col1\" class=\"data row1 col1\" >14.06%</td>\n",
       "            </tr>\n",
       "            <tr>\n",
       "                        <th id=\"T_21cf5360_d8a6_11e9_b8af_f07960081566level0_row2\" class=\"row_heading level0 row2\" >Other/Non-Disclosed</th>\n",
       "                        <td id=\"T_21cf5360_d8a6_11e9_b8af_f07960081566row2_col0\" class=\"data row2 col0\" >11</td>\n",
       "                        <td id=\"T_21cf5360_d8a6_11e9_b8af_f07960081566row2_col1\" class=\"data row2 col1\" >1.91%</td>\n",
       "            </tr>\n",
       "    </tbody></table>"
      ],
      "text/plain": [
       "<pandas.io.formats.style.Styler at 0x110d741d0>"
      ]
     },
     "execution_count": 12,
     "metadata": {},
     "output_type": "execute_result"
    }
   ],
   "source": [
    "gender_dataframe = {'Player Count by Gender': [count_male, count_female, count_other],\n",
    "                    'Gender': ['Male', 'Female', 'Other/Non-Disclosed'],\n",
    "                    'Percentage of Players by Gender':[percent_male, percent_female, percent_other]}\n",
    "\n",
    "gender_final = pd.DataFrame(gender_dataframe)\n",
    "gender_final = gender_final.set_index('Gender')\n",
    "gender_final[['Percentage of Players by Gender','Player Count by Gender']]\n",
    "gender_final\n",
    "format_dict = {'Percentage of Players by Gender': '{:.2%}'}\n",
    "gender_final.style.format(format_dict)"
   ]
  },
  {
   "cell_type": "code",
   "execution_count": 13,
   "metadata": {},
   "outputs": [
    {
     "name": "stdout",
     "output_type": "stream",
     "text": [
      "652\n",
      "1967.64\n",
      "3.0178527607361967\n",
      "484\n",
      "4.065371900826446\n"
     ]
    }
   ],
   "source": [
    "# Purchasing Analysis (Gender) - Male\n",
    "group_male = purchase_data.groupby([\"Gender\"]).get_group(('Male'))\n",
    "purchase_count_male = len(group_male['Price'])\n",
    "print(purchase_count_male)\n",
    "\n",
    "purchase_total_male = group_male['Price'].sum()\n",
    "print(purchase_total_male)\n",
    "\n",
    "avg_purchase_price_male = purchase_total_male / purchase_count_male\n",
    "print(avg_purchase_price_male)\n",
    "\n",
    "count_male = len(group_male['SN'].unique())\n",
    "print(count_male)\n",
    "\n",
    "avg_per_person_male = purchase_total_male / count_male\n",
    "print(avg_per_person_male)"
   ]
  },
  {
   "cell_type": "code",
   "execution_count": 14,
   "metadata": {},
   "outputs": [
    {
     "name": "stdout",
     "output_type": "stream",
     "text": [
      "113\n",
      "361.94\n",
      "3.203008849557522\n",
      "81\n",
      "4.468395061728395\n"
     ]
    }
   ],
   "source": [
    "# Purchasing Analysis (Gender) - Female\n",
    "group_female = purchase_data.groupby([\"Gender\"]).get_group(('Female'))\n",
    "purchase_count_female = len(group_female['Price'])\n",
    "print(purchase_count_female)\n",
    "\n",
    "purchase_total_female = group_female['Price'].sum()\n",
    "print(purchase_total_female)\n",
    "\n",
    "avg_purchase_price_female = purchase_total_female / purchase_count_female\n",
    "print(avg_purchase_price_female)\n",
    "\n",
    "count_female = len(group_female['SN'].unique())\n",
    "print(count_female)\n",
    "\n",
    "avg_per_person_female = purchase_total_female / count_female\n",
    "print(avg_per_person_female)"
   ]
  },
  {
   "cell_type": "code",
   "execution_count": 15,
   "metadata": {},
   "outputs": [
    {
     "name": "stdout",
     "output_type": "stream",
     "text": [
      "15\n",
      "50.19\n",
      "3.3459999999999996\n",
      "11\n",
      "4.5627272727272725\n"
     ]
    }
   ],
   "source": [
    "# Purchasing Analysis (Gender) - Other\n",
    "group_other = purchase_data.groupby([\"Gender\"]).get_group(('Other / Non-Disclosed'))\n",
    "purchase_count_other = len(group_other['Price'])\n",
    "print(purchase_count_other)\n",
    "\n",
    "purchase_total_other = group_other['Price'].sum()\n",
    "print(purchase_total_other)\n",
    "\n",
    "avg_purchase_price_other = purchase_total_other / purchase_count_other\n",
    "print(avg_purchase_price_other)\n",
    "\n",
    "count_other = len(group_other['SN'].unique())\n",
    "print(count_other)\n",
    "\n",
    "avg_per_person_other = purchase_total_other / count_other\n",
    "print(avg_per_person_other)"
   ]
  },
  {
   "cell_type": "code",
   "execution_count": 16,
   "metadata": {},
   "outputs": [
    {
     "data": {
      "text/html": [
       "<div>\n",
       "<style scoped>\n",
       "    .dataframe tbody tr th:only-of-type {\n",
       "        vertical-align: middle;\n",
       "    }\n",
       "\n",
       "    .dataframe tbody tr th {\n",
       "        vertical-align: top;\n",
       "    }\n",
       "\n",
       "    .dataframe thead th {\n",
       "        text-align: right;\n",
       "    }\n",
       "</style>\n",
       "<table border=\"1\" class=\"dataframe\">\n",
       "  <thead>\n",
       "    <tr style=\"text-align: right;\">\n",
       "      <th></th>\n",
       "      <th>Purchase Count</th>\n",
       "      <th>Avg Purchase Price</th>\n",
       "      <th>Total Purchase Value</th>\n",
       "      <th>Avg Total Purchase Per Person</th>\n",
       "    </tr>\n",
       "    <tr>\n",
       "      <th>Gender</th>\n",
       "      <th></th>\n",
       "      <th></th>\n",
       "      <th></th>\n",
       "      <th></th>\n",
       "    </tr>\n",
       "  </thead>\n",
       "  <tbody>\n",
       "    <tr>\n",
       "      <td>Male</td>\n",
       "      <td>652</td>\n",
       "      <td>$3.02</td>\n",
       "      <td>$1,967.64</td>\n",
       "      <td>$4.07</td>\n",
       "    </tr>\n",
       "    <tr>\n",
       "      <td>Female</td>\n",
       "      <td>113</td>\n",
       "      <td>$3.20</td>\n",
       "      <td>$361.94</td>\n",
       "      <td>$4.47</td>\n",
       "    </tr>\n",
       "    <tr>\n",
       "      <td>Other/Non-Disclosed</td>\n",
       "      <td>15</td>\n",
       "      <td>$3.35</td>\n",
       "      <td>$50.19</td>\n",
       "      <td>$4.56</td>\n",
       "    </tr>\n",
       "  </tbody>\n",
       "</table>\n",
       "</div>"
      ],
      "text/plain": [
       "                     Purchase Count  Avg Purchase Price  Total Purchase Value  \\\n",
       "Gender                                                                          \n",
       "Male                            652               $3.02             $1,967.64   \n",
       "Female                          113               $3.20               $361.94   \n",
       "Other/Non-Disclosed              15               $3.35                $50.19   \n",
       "\n",
       "                     Avg Total Purchase Per Person  \n",
       "Gender                                              \n",
       "Male                                         $4.07  \n",
       "Female                                       $4.47  \n",
       "Other/Non-Disclosed                          $4.56  "
      ]
     },
     "execution_count": 16,
     "metadata": {},
     "output_type": "execute_result"
    }
   ],
   "source": [
    "#Data Frame for Purchasing Analysis (Gender)\n",
    "gender_purchase_analysis_dataframe = {'Purchase Count': [purchase_count_male, purchase_count_female \n",
    "                                                         ,purchase_count_other],\n",
    "                    'Gender': ['Male', 'Female', 'Other/Non-Disclosed'],\n",
    "                    'Avg Purchase Price':[avg_purchase_price_male, avg_purchase_price_female, avg_purchase_price_other],\n",
    "                    'Total Purchase Value':[purchase_total_male, purchase_total_female, purchase_total_other],\n",
    "                    'Avg Total Purchase Per Person': [avg_per_person_male, avg_per_person_female, avg_per_person_other]}\n",
    "\n",
    "gender_purchase_analysis_final = pd.DataFrame(gender_purchase_analysis_dataframe)\n",
    "gender_purchase_analysis_final = gender_purchase_analysis_final.set_index('Gender')\n",
    "gender_purchase_analysis_final[['Purchase Count','Avg Purchase Price','Total Purchase Value',\n",
    "                                'Avg Total Purchase Per Person']]\n",
    "gender_purchase_analysis_final"
   ]
  },
  {
   "cell_type": "code",
   "execution_count": 18,
   "metadata": {},
   "outputs": [
    {
     "name": "stdout",
     "output_type": "stream",
     "text": [
      "780\n"
     ]
    },
    {
     "data": {
      "text/plain": [
       "4.166666666666666"
      ]
     },
     "execution_count": 18,
     "metadata": {},
     "output_type": "execute_result"
    }
   ],
   "source": [
    " # Create bins & labels\n",
    "total_players = len(purchase_data[\"SN\"].unique())\n",
    "\n",
    "bins = [0, 10, 14, 19, 24, 29, 34, 39, 46]\n",
    "age_labels = ['<10', '10 - 14', '15 - 19', '20 - 24', '25 - 29', '30 - 34', '35 - 39', '40+']\n",
    "\n",
    "purchase_data[\"Age Group\"] = pd.cut(purchase_data[\"Age\"], \n",
    "                                    bins, labels=age_labels)\n",
    "print(purchase_data[\"SN\"].count()) \n",
    "\n",
    "under_ten = purchase_data.groupby(['Age Group']).get_group(('<10'))\n",
    "player_count_under_ten = len(under_ten['SN'].unique())\n",
    "percent_bin_one = (player_count_under_ten/total_players)*100\n",
    "percent_bin_one\n"
   ]
  },
  {
   "cell_type": "code",
   "execution_count": null,
   "metadata": {},
   "outputs": [],
   "source": [
    "\n"
   ]
  }
 ],
 "metadata": {
  "kernelspec": {
   "display_name": "Python 3",
   "language": "python",
   "name": "python3"
  },
  "language_info": {
   "codemirror_mode": {
    "name": "ipython",
    "version": 3
   },
   "file_extension": ".py",
   "mimetype": "text/x-python",
   "name": "python",
   "nbconvert_exporter": "python",
   "pygments_lexer": "ipython3",
   "version": "3.7.3"
  }
 },
 "nbformat": 4,
 "nbformat_minor": 2
}
