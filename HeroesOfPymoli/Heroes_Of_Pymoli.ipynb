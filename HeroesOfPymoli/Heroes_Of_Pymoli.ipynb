{
 "cells": [
  {
   "cell_type": "code",
   "execution_count": 1,
   "metadata": {},
   "outputs": [],
   "source": [
    "import pandas as pd"
   ]
  },
  {
   "cell_type": "code",
   "execution_count": 2,
   "metadata": {},
   "outputs": [
    {
     "data": {
      "text/html": [
       "<div>\n",
       "<style scoped>\n",
       "    .dataframe tbody tr th:only-of-type {\n",
       "        vertical-align: middle;\n",
       "    }\n",
       "\n",
       "    .dataframe tbody tr th {\n",
       "        vertical-align: top;\n",
       "    }\n",
       "\n",
       "    .dataframe thead th {\n",
       "        text-align: right;\n",
       "    }\n",
       "</style>\n",
       "<table border=\"1\" class=\"dataframe\">\n",
       "  <thead>\n",
       "    <tr style=\"text-align: right;\">\n",
       "      <th></th>\n",
       "      <th>Purchase ID</th>\n",
       "      <th>SN</th>\n",
       "      <th>Age</th>\n",
       "      <th>Gender</th>\n",
       "      <th>Item ID</th>\n",
       "      <th>Item Name</th>\n",
       "      <th>Price</th>\n",
       "    </tr>\n",
       "  </thead>\n",
       "  <tbody>\n",
       "    <tr>\n",
       "      <td>0</td>\n",
       "      <td>0</td>\n",
       "      <td>Lisim78</td>\n",
       "      <td>20</td>\n",
       "      <td>Male</td>\n",
       "      <td>108</td>\n",
       "      <td>Extraction, Quickblade Of Trembling Hands</td>\n",
       "      <td>3.53</td>\n",
       "    </tr>\n",
       "  </tbody>\n",
       "</table>\n",
       "</div>"
      ],
      "text/plain": [
       "   Purchase ID       SN  Age Gender  Item ID  \\\n",
       "0            0  Lisim78   20   Male      108   \n",
       "\n",
       "                                   Item Name  Price  \n",
       "0  Extraction, Quickblade Of Trembling Hands   3.53  "
      ]
     },
     "execution_count": 2,
     "metadata": {},
     "output_type": "execute_result"
    }
   ],
   "source": [
    "file_to_import = \"../purchase_data.csv\"\n",
    "purchase_data = pd.read_csv('purchase_data.csv')\n",
    "purchase_data.head(1)"
   ]
  },
  {
   "cell_type": "code",
   "execution_count": 3,
   "metadata": {},
   "outputs": [
    {
     "data": {
      "text/plain": [
       "576"
      ]
     },
     "execution_count": 3,
     "metadata": {},
     "output_type": "execute_result"
    }
   ],
   "source": [
    "# Total Players\n",
    "total_players = len(purchase_data[\"SN\"].unique())\n",
    "total_players"
   ]
  },
  {
   "cell_type": "code",
   "execution_count": 4,
   "metadata": {},
   "outputs": [
    {
     "data": {
      "text/plain": [
       "183"
      ]
     },
     "execution_count": 4,
     "metadata": {},
     "output_type": "execute_result"
    }
   ],
   "source": [
    "# Number of Unique Item\n",
    "number_unique = len(purchase_data[\"Item ID\"].unique())\n",
    "number_unique "
   ]
  },
  {
   "cell_type": "code",
   "execution_count": 5,
   "metadata": {},
   "outputs": [
    {
     "data": {
      "text/plain": [
       "3.05"
      ]
     },
     "execution_count": 5,
     "metadata": {},
     "output_type": "execute_result"
    }
   ],
   "source": [
    "# Average Price\n",
    "average_item_price = purchase_data[\"Price\"].mean()\n",
    "pd.options.display.float_format = '${:,.2f}'.format\n",
    "average_item_price.round(2)"
   ]
  },
  {
   "cell_type": "code",
   "execution_count": 6,
   "metadata": {},
   "outputs": [
    {
     "data": {
      "text/plain": [
       "780"
      ]
     },
     "execution_count": 6,
     "metadata": {},
     "output_type": "execute_result"
    }
   ],
   "source": [
    "# Number of Purchases\n",
    "number_purchases = len(purchase_data[\"Purchase ID\"].value_counts())\n",
    "number_purchases "
   ]
  },
  {
   "cell_type": "code",
   "execution_count": 7,
   "metadata": {},
   "outputs": [
    {
     "data": {
      "text/plain": [
       "2379.77"
      ]
     },
     "execution_count": 7,
     "metadata": {},
     "output_type": "execute_result"
    }
   ],
   "source": [
    "# Total Revenue\n",
    "total_revenue = purchase_data[\"Price\"].sum()\n",
    "pd.options.display.float_format = '${:,.2f}'.format\n",
    "total_revenue"
   ]
  },
  {
   "cell_type": "code",
   "execution_count": 8,
   "metadata": {},
   "outputs": [
    {
     "data": {
      "text/html": [
       "<div>\n",
       "<style scoped>\n",
       "    .dataframe tbody tr th:only-of-type {\n",
       "        vertical-align: middle;\n",
       "    }\n",
       "\n",
       "    .dataframe tbody tr th {\n",
       "        vertical-align: top;\n",
       "    }\n",
       "\n",
       "    .dataframe thead th {\n",
       "        text-align: right;\n",
       "    }\n",
       "</style>\n",
       "<table border=\"1\" class=\"dataframe\">\n",
       "  <thead>\n",
       "    <tr style=\"text-align: right;\">\n",
       "      <th></th>\n",
       "      <th>Total Number of Players</th>\n",
       "      <th>Unique Items</th>\n",
       "      <th>Average Price per Item</th>\n",
       "      <th>Number of Purchases</th>\n",
       "      <th>Total Revenue</th>\n",
       "    </tr>\n",
       "  </thead>\n",
       "  <tbody>\n",
       "    <tr>\n",
       "      <td>0</td>\n",
       "      <td>576</td>\n",
       "      <td>183</td>\n",
       "      <td>$3.05</td>\n",
       "      <td>780</td>\n",
       "      <td>$2,379.77</td>\n",
       "    </tr>\n",
       "  </tbody>\n",
       "</table>\n",
       "</div>"
      ],
      "text/plain": [
       "   Total Number of Players  Unique Items  Average Price per Item  \\\n",
       "0                      576           183                   $3.05   \n",
       "\n",
       "   Number of Purchases  Total Revenue  \n",
       "0                  780      $2,379.77  "
      ]
     },
     "execution_count": 8,
     "metadata": {},
     "output_type": "execute_result"
    }
   ],
   "source": [
    "#Purchase Analysis Total\n",
    "summary_table_one = pd.DataFrame({\"Total Number of Players\": total_players, \n",
    "                              \"Unique Items\": number_unique, \n",
    "                              \"Average Price per Item\": average_item_price.round(2),\n",
    "                            \"Number of Purchases\": number_purchases, \n",
    "                             \"Total Revenue\": total_revenue}, index=[0])\n",
    "summary_table_one"
   ]
  },
  {
   "cell_type": "code",
   "execution_count": 9,
   "metadata": {},
   "outputs": [
    {
     "name": "stdout",
     "output_type": "stream",
     "text": [
      "484\n",
      "0.8402777777777778\n"
     ]
    }
   ],
   "source": [
    "#Gender demo Male\n",
    "group_male = purchase_data.groupby([\"Gender\"]).get_group(('Male'))\n",
    "count_male = len(group_male['SN'].unique())\n",
    "print(count_male)\n",
    "\n",
    "percent_male = (count_male/total_players)\n",
    "print(percent_male)"
   ]
  },
  {
   "cell_type": "code",
   "execution_count": 10,
   "metadata": {},
   "outputs": [
    {
     "name": "stdout",
     "output_type": "stream",
     "text": [
      "81\n",
      "0.140625\n"
     ]
    }
   ],
   "source": [
    "#Gender demo Female\n",
    "group_female = purchase_data.groupby([\"Gender\"]).get_group(('Female'))\n",
    "count_female = len(group_female['SN'].unique())\n",
    "print(count_female)\n",
    "\n",
    "percent_female = (count_female/total_players)\n",
    "print(percent_female)"
   ]
  },
  {
   "cell_type": "code",
   "execution_count": 11,
   "metadata": {},
   "outputs": [
    {
     "name": "stdout",
     "output_type": "stream",
     "text": [
      "11\n",
      "0.019097222222222224\n"
     ]
    }
   ],
   "source": [
    "#Gender demo Other\n",
    "group_other = purchase_data.groupby([\"Gender\"]).get_group(('Other / Non-Disclosed'))\n",
    "count_other = len(group_other['SN'].unique())\n",
    "print(count_other)\n",
    "\n",
    "percent_other = (count_other/total_players)\n",
    "print(percent_other)"
   ]
  },
  {
   "cell_type": "code",
   "execution_count": 12,
   "metadata": {},
   "outputs": [
    {
     "data": {
      "text/html": [
       "<style  type=\"text/css\" >\n",
       "</style><table id=\"T_4adaec36_d8e4_11e9_a30f_f07960081566\" ><thead>    <tr>        <th class=\"blank level0\" ></th>        <th class=\"col_heading level0 col0\" >Player Count by Gender</th>        <th class=\"col_heading level0 col1\" >Percentage of Players by Gender</th>    </tr>    <tr>        <th class=\"index_name level0\" >Gender</th>        <th class=\"blank\" ></th>        <th class=\"blank\" ></th>    </tr></thead><tbody>\n",
       "                <tr>\n",
       "                        <th id=\"T_4adaec36_d8e4_11e9_a30f_f07960081566level0_row0\" class=\"row_heading level0 row0\" >Male</th>\n",
       "                        <td id=\"T_4adaec36_d8e4_11e9_a30f_f07960081566row0_col0\" class=\"data row0 col0\" >484</td>\n",
       "                        <td id=\"T_4adaec36_d8e4_11e9_a30f_f07960081566row0_col1\" class=\"data row0 col1\" >84.03%</td>\n",
       "            </tr>\n",
       "            <tr>\n",
       "                        <th id=\"T_4adaec36_d8e4_11e9_a30f_f07960081566level0_row1\" class=\"row_heading level0 row1\" >Female</th>\n",
       "                        <td id=\"T_4adaec36_d8e4_11e9_a30f_f07960081566row1_col0\" class=\"data row1 col0\" >81</td>\n",
       "                        <td id=\"T_4adaec36_d8e4_11e9_a30f_f07960081566row1_col1\" class=\"data row1 col1\" >14.06%</td>\n",
       "            </tr>\n",
       "            <tr>\n",
       "                        <th id=\"T_4adaec36_d8e4_11e9_a30f_f07960081566level0_row2\" class=\"row_heading level0 row2\" >Other/Non-Disclosed</th>\n",
       "                        <td id=\"T_4adaec36_d8e4_11e9_a30f_f07960081566row2_col0\" class=\"data row2 col0\" >11</td>\n",
       "                        <td id=\"T_4adaec36_d8e4_11e9_a30f_f07960081566row2_col1\" class=\"data row2 col1\" >1.91%</td>\n",
       "            </tr>\n",
       "    </tbody></table>"
      ],
      "text/plain": [
       "<pandas.io.formats.style.Styler at 0x112ad8b38>"
      ]
     },
     "execution_count": 12,
     "metadata": {},
     "output_type": "execute_result"
    }
   ],
   "source": [
    "gender_dataframe = {'Player Count by Gender': [count_male, count_female, count_other],\n",
    "                    'Gender': ['Male', 'Female', 'Other/Non-Disclosed'],\n",
    "                    'Percentage of Players by Gender':[percent_male, percent_female, percent_other]}\n",
    "\n",
    "gender_final = pd.DataFrame(gender_dataframe)\n",
    "gender_final = gender_final.set_index('Gender')\n",
    "gender_final[['Percentage of Players by Gender','Player Count by Gender']]\n",
    "gender_final\n",
    "\n",
    "format_dict = {'Percentage of Players by Gender': '{:.2%}'}\n",
    "gender_final.style.format(format_dict)"
   ]
  },
  {
   "cell_type": "code",
   "execution_count": 13,
   "metadata": {},
   "outputs": [
    {
     "name": "stdout",
     "output_type": "stream",
     "text": [
      "652\n",
      "1967.64\n",
      "3.0178527607361967\n",
      "484\n",
      "4.065371900826446\n"
     ]
    }
   ],
   "source": [
    "# Purchasing Analysis (Gender) - Male\n",
    "group_male = purchase_data.groupby([\"Gender\"]).get_group(('Male'))\n",
    "purchase_count_male = len(group_male['Price'])\n",
    "print(purchase_count_male)\n",
    "\n",
    "purchase_total_male = group_male['Price'].sum()\n",
    "print(purchase_total_male)\n",
    "\n",
    "avg_purchase_price_male = purchase_total_male / purchase_count_male\n",
    "print(avg_purchase_price_male)\n",
    "\n",
    "count_male = len(group_male['SN'].unique())\n",
    "print(count_male)\n",
    "\n",
    "avg_per_person_male = purchase_total_male / count_male\n",
    "print(avg_per_person_male)"
   ]
  },
  {
   "cell_type": "code",
   "execution_count": 14,
   "metadata": {},
   "outputs": [
    {
     "name": "stdout",
     "output_type": "stream",
     "text": [
      "113\n",
      "361.94\n",
      "3.203008849557522\n",
      "81\n",
      "4.468395061728395\n"
     ]
    }
   ],
   "source": [
    "# Purchasing Analysis (Gender) - Female\n",
    "group_female = purchase_data.groupby([\"Gender\"]).get_group(('Female'))\n",
    "purchase_count_female = len(group_female['Price'])\n",
    "print(purchase_count_female)\n",
    "\n",
    "purchase_total_female = group_female['Price'].sum()\n",
    "print(purchase_total_female)\n",
    "\n",
    "avg_purchase_price_female = purchase_total_female / purchase_count_female\n",
    "print(avg_purchase_price_female)\n",
    "\n",
    "count_female = len(group_female['SN'].unique())\n",
    "print(count_female)\n",
    "\n",
    "avg_per_person_female = purchase_total_female / count_female\n",
    "print(avg_per_person_female)"
   ]
  },
  {
   "cell_type": "code",
   "execution_count": 15,
   "metadata": {},
   "outputs": [
    {
     "name": "stdout",
     "output_type": "stream",
     "text": [
      "15\n",
      "50.19\n",
      "3.3459999999999996\n",
      "11\n",
      "4.5627272727272725\n"
     ]
    }
   ],
   "source": [
    "# Purchasing Analysis (Gender) - Other\n",
    "group_other = purchase_data.groupby([\"Gender\"]).get_group(('Other / Non-Disclosed'))\n",
    "purchase_count_other = len(group_other['Price'])\n",
    "print(purchase_count_other)\n",
    "\n",
    "purchase_total_other = group_other['Price'].sum()\n",
    "print(purchase_total_other)\n",
    "\n",
    "avg_purchase_price_other = purchase_total_other / purchase_count_other\n",
    "print(avg_purchase_price_other)\n",
    "\n",
    "count_other = len(group_other['SN'].unique())\n",
    "print(count_other)\n",
    "\n",
    "avg_per_person_other = purchase_total_other / count_other\n",
    "print(avg_per_person_other)"
   ]
  },
  {
   "cell_type": "code",
   "execution_count": 16,
   "metadata": {},
   "outputs": [
    {
     "data": {
      "text/html": [
       "<div>\n",
       "<style scoped>\n",
       "    .dataframe tbody tr th:only-of-type {\n",
       "        vertical-align: middle;\n",
       "    }\n",
       "\n",
       "    .dataframe tbody tr th {\n",
       "        vertical-align: top;\n",
       "    }\n",
       "\n",
       "    .dataframe thead th {\n",
       "        text-align: right;\n",
       "    }\n",
       "</style>\n",
       "<table border=\"1\" class=\"dataframe\">\n",
       "  <thead>\n",
       "    <tr style=\"text-align: right;\">\n",
       "      <th></th>\n",
       "      <th>Purchase Count</th>\n",
       "      <th>Avg Purchase Price</th>\n",
       "      <th>Total Purchase Value</th>\n",
       "      <th>Avg Total Purchase Per Person</th>\n",
       "    </tr>\n",
       "    <tr>\n",
       "      <th>Gender</th>\n",
       "      <th></th>\n",
       "      <th></th>\n",
       "      <th></th>\n",
       "      <th></th>\n",
       "    </tr>\n",
       "  </thead>\n",
       "  <tbody>\n",
       "    <tr>\n",
       "      <td>Male</td>\n",
       "      <td>652</td>\n",
       "      <td>$3.02</td>\n",
       "      <td>$1,967.64</td>\n",
       "      <td>$4.07</td>\n",
       "    </tr>\n",
       "    <tr>\n",
       "      <td>Female</td>\n",
       "      <td>113</td>\n",
       "      <td>$3.20</td>\n",
       "      <td>$361.94</td>\n",
       "      <td>$4.47</td>\n",
       "    </tr>\n",
       "    <tr>\n",
       "      <td>Other/Non-Disclosed</td>\n",
       "      <td>15</td>\n",
       "      <td>$3.35</td>\n",
       "      <td>$50.19</td>\n",
       "      <td>$4.56</td>\n",
       "    </tr>\n",
       "  </tbody>\n",
       "</table>\n",
       "</div>"
      ],
      "text/plain": [
       "                     Purchase Count  Avg Purchase Price  Total Purchase Value  \\\n",
       "Gender                                                                          \n",
       "Male                            652               $3.02             $1,967.64   \n",
       "Female                          113               $3.20               $361.94   \n",
       "Other/Non-Disclosed              15               $3.35                $50.19   \n",
       "\n",
       "                     Avg Total Purchase Per Person  \n",
       "Gender                                              \n",
       "Male                                         $4.07  \n",
       "Female                                       $4.47  \n",
       "Other/Non-Disclosed                          $4.56  "
      ]
     },
     "execution_count": 16,
     "metadata": {},
     "output_type": "execute_result"
    }
   ],
   "source": [
    "#Data Frame for Purchasing Analysis (Gender)\n",
    "gender_purchase_analysis_dataframe = {'Purchase Count': [purchase_count_male, purchase_count_female \n",
    "                                                         ,purchase_count_other],\n",
    "                    'Gender': ['Male', 'Female', 'Other/Non-Disclosed'],\n",
    "                    'Avg Purchase Price':[avg_purchase_price_male, avg_purchase_price_female, avg_purchase_price_other],\n",
    "                    'Total Purchase Value':[purchase_total_male, purchase_total_female, purchase_total_other],\n",
    "                    'Avg Total Purchase Per Person': [avg_per_person_male, avg_per_person_female, avg_per_person_other]}\n",
    "\n",
    "gender_purchase_analysis_final = pd.DataFrame(gender_purchase_analysis_dataframe)\n",
    "gender_purchase_analysis_final = gender_purchase_analysis_final.set_index('Gender')\n",
    "gender_purchase_analysis_final[['Purchase Count','Avg Purchase Price','Total Purchase Value',\n",
    "                                'Avg Total Purchase Per Person']]\n",
    "gender_purchase_analysis_final"
   ]
  },
  {
   "cell_type": "code",
   "execution_count": 17,
   "metadata": {},
   "outputs": [
    {
     "data": {
      "text/html": [
       "<style  type=\"text/css\" >\n",
       "</style><table id=\"T_4af45086_d8e4_11e9_a30f_f07960081566\" ><thead>    <tr>        <th class=\"blank level0\" ></th>        <th class=\"col_heading level0 col0\" >Total Count</th>        <th class=\"col_heading level0 col1\" >Percentage of Players</th>    </tr></thead><tbody>\n",
       "                <tr>\n",
       "                        <th id=\"T_4af45086_d8e4_11e9_a30f_f07960081566level0_row0\" class=\"row_heading level0 row0\" ><10</th>\n",
       "                        <td id=\"T_4af45086_d8e4_11e9_a30f_f07960081566row0_col0\" class=\"data row0 col0\" >17</td>\n",
       "                        <td id=\"T_4af45086_d8e4_11e9_a30f_f07960081566row0_col1\" class=\"data row0 col1\" >2.95%</td>\n",
       "            </tr>\n",
       "            <tr>\n",
       "                        <th id=\"T_4af45086_d8e4_11e9_a30f_f07960081566level0_row1\" class=\"row_heading level0 row1\" >10 - 14</th>\n",
       "                        <td id=\"T_4af45086_d8e4_11e9_a30f_f07960081566row1_col0\" class=\"data row1 col0\" >22</td>\n",
       "                        <td id=\"T_4af45086_d8e4_11e9_a30f_f07960081566row1_col1\" class=\"data row1 col1\" >3.82%</td>\n",
       "            </tr>\n",
       "            <tr>\n",
       "                        <th id=\"T_4af45086_d8e4_11e9_a30f_f07960081566level0_row2\" class=\"row_heading level0 row2\" >15 - 19</th>\n",
       "                        <td id=\"T_4af45086_d8e4_11e9_a30f_f07960081566row2_col0\" class=\"data row2 col0\" >107</td>\n",
       "                        <td id=\"T_4af45086_d8e4_11e9_a30f_f07960081566row2_col1\" class=\"data row2 col1\" >18.58%</td>\n",
       "            </tr>\n",
       "            <tr>\n",
       "                        <th id=\"T_4af45086_d8e4_11e9_a30f_f07960081566level0_row3\" class=\"row_heading level0 row3\" >20 - 24</th>\n",
       "                        <td id=\"T_4af45086_d8e4_11e9_a30f_f07960081566row3_col0\" class=\"data row3 col0\" >258</td>\n",
       "                        <td id=\"T_4af45086_d8e4_11e9_a30f_f07960081566row3_col1\" class=\"data row3 col1\" >44.79%</td>\n",
       "            </tr>\n",
       "            <tr>\n",
       "                        <th id=\"T_4af45086_d8e4_11e9_a30f_f07960081566level0_row4\" class=\"row_heading level0 row4\" >25 - 29</th>\n",
       "                        <td id=\"T_4af45086_d8e4_11e9_a30f_f07960081566row4_col0\" class=\"data row4 col0\" >77</td>\n",
       "                        <td id=\"T_4af45086_d8e4_11e9_a30f_f07960081566row4_col1\" class=\"data row4 col1\" >13.37%</td>\n",
       "            </tr>\n",
       "            <tr>\n",
       "                        <th id=\"T_4af45086_d8e4_11e9_a30f_f07960081566level0_row5\" class=\"row_heading level0 row5\" >30 - 34</th>\n",
       "                        <td id=\"T_4af45086_d8e4_11e9_a30f_f07960081566row5_col0\" class=\"data row5 col0\" >52</td>\n",
       "                        <td id=\"T_4af45086_d8e4_11e9_a30f_f07960081566row5_col1\" class=\"data row5 col1\" >9.03%</td>\n",
       "            </tr>\n",
       "            <tr>\n",
       "                        <th id=\"T_4af45086_d8e4_11e9_a30f_f07960081566level0_row6\" class=\"row_heading level0 row6\" >35 - 39</th>\n",
       "                        <td id=\"T_4af45086_d8e4_11e9_a30f_f07960081566row6_col0\" class=\"data row6 col0\" >31</td>\n",
       "                        <td id=\"T_4af45086_d8e4_11e9_a30f_f07960081566row6_col1\" class=\"data row6 col1\" >5.38%</td>\n",
       "            </tr>\n",
       "            <tr>\n",
       "                        <th id=\"T_4af45086_d8e4_11e9_a30f_f07960081566level0_row7\" class=\"row_heading level0 row7\" >40+</th>\n",
       "                        <td id=\"T_4af45086_d8e4_11e9_a30f_f07960081566row7_col0\" class=\"data row7 col0\" >12</td>\n",
       "                        <td id=\"T_4af45086_d8e4_11e9_a30f_f07960081566row7_col1\" class=\"data row7 col1\" >2.08%</td>\n",
       "            </tr>\n",
       "    </tbody></table>"
      ],
      "text/plain": [
       "<pandas.io.formats.style.Styler at 0x11356e6a0>"
      ]
     },
     "execution_count": 17,
     "metadata": {},
     "output_type": "execute_result"
    }
   ],
   "source": [
    " # Create bins & labels\n",
    "bins = [0, 9, 14, 19, 24, 29, 34, 39, 45]\n",
    "bin_labels = [\"<10\", \"10 - 14\", \"15 - 19\", \"20 - 24\", \"25 - 29\", \"30 - 34\", \"35 - 39\", \"40+\"]\n",
    "\n",
    "total_players = len(purchase_data[\"SN\"].unique())\n",
    "\n",
    "# Cut to bin data, adds age group column to dataframe\n",
    "purchase_data[\"Age Group\"] = pd.cut(purchase_data[\"Age\"], bins=bins, labels=bin_labels)\n",
    "purchase_data\n",
    "\n",
    "purchase_data_group = purchase_data.groupby(\"Age Group\")\n",
    "\n",
    "total_count_age = purchase_data_group[\"SN\"].nunique()\n",
    "\n",
    "percent_age = (total_count_age/total_players)*100\n",
    "percent_age\n",
    "\n",
    "age_demographics = pd.DataFrame({\"Total Count\": total_count_age, \"Percentage of Players\": percent_age})\n",
    "age_demographics.index.name = None\n",
    "age_demographics.style.format({\"Percentage of Players\":\"{:,.2f}%\"})"
   ]
  },
  {
   "cell_type": "code",
   "execution_count": 18,
   "metadata": {},
   "outputs": [
    {
     "data": {
      "text/html": [
       "<style  type=\"text/css\" >\n",
       "</style><table id=\"T_4afa6052_d8e4_11e9_a30f_f07960081566\" ><thead>    <tr>        <th class=\"blank level0\" ></th>        <th class=\"col_heading level0 col0\" >Purchase Count</th>        <th class=\"col_heading level0 col1\" >Avg Purchase Price</th>        <th class=\"col_heading level0 col2\" >Total Purchase Value</th>        <th class=\"col_heading level0 col3\" >Avg Total Purchase per Person</th>    </tr></thead><tbody>\n",
       "                <tr>\n",
       "                        <th id=\"T_4afa6052_d8e4_11e9_a30f_f07960081566level0_row0\" class=\"row_heading level0 row0\" ><10</th>\n",
       "                        <td id=\"T_4afa6052_d8e4_11e9_a30f_f07960081566row0_col0\" class=\"data row0 col0\" >23</td>\n",
       "                        <td id=\"T_4afa6052_d8e4_11e9_a30f_f07960081566row0_col1\" class=\"data row0 col1\" >$3.35</td>\n",
       "                        <td id=\"T_4afa6052_d8e4_11e9_a30f_f07960081566row0_col2\" class=\"data row0 col2\" >$77.13</td>\n",
       "                        <td id=\"T_4afa6052_d8e4_11e9_a30f_f07960081566row0_col3\" class=\"data row0 col3\" >$3.35</td>\n",
       "            </tr>\n",
       "            <tr>\n",
       "                        <th id=\"T_4afa6052_d8e4_11e9_a30f_f07960081566level0_row1\" class=\"row_heading level0 row1\" >10 - 14</th>\n",
       "                        <td id=\"T_4afa6052_d8e4_11e9_a30f_f07960081566row1_col0\" class=\"data row1 col0\" >28</td>\n",
       "                        <td id=\"T_4afa6052_d8e4_11e9_a30f_f07960081566row1_col1\" class=\"data row1 col1\" >$2.96</td>\n",
       "                        <td id=\"T_4afa6052_d8e4_11e9_a30f_f07960081566row1_col2\" class=\"data row1 col2\" >$82.78</td>\n",
       "                        <td id=\"T_4afa6052_d8e4_11e9_a30f_f07960081566row1_col3\" class=\"data row1 col3\" >$2.96</td>\n",
       "            </tr>\n",
       "            <tr>\n",
       "                        <th id=\"T_4afa6052_d8e4_11e9_a30f_f07960081566level0_row2\" class=\"row_heading level0 row2\" >15 - 19</th>\n",
       "                        <td id=\"T_4afa6052_d8e4_11e9_a30f_f07960081566row2_col0\" class=\"data row2 col0\" >136</td>\n",
       "                        <td id=\"T_4afa6052_d8e4_11e9_a30f_f07960081566row2_col1\" class=\"data row2 col1\" >$3.04</td>\n",
       "                        <td id=\"T_4afa6052_d8e4_11e9_a30f_f07960081566row2_col2\" class=\"data row2 col2\" >$412.89</td>\n",
       "                        <td id=\"T_4afa6052_d8e4_11e9_a30f_f07960081566row2_col3\" class=\"data row2 col3\" >$3.04</td>\n",
       "            </tr>\n",
       "            <tr>\n",
       "                        <th id=\"T_4afa6052_d8e4_11e9_a30f_f07960081566level0_row3\" class=\"row_heading level0 row3\" >20 - 24</th>\n",
       "                        <td id=\"T_4afa6052_d8e4_11e9_a30f_f07960081566row3_col0\" class=\"data row3 col0\" >365</td>\n",
       "                        <td id=\"T_4afa6052_d8e4_11e9_a30f_f07960081566row3_col1\" class=\"data row3 col1\" >$3.05</td>\n",
       "                        <td id=\"T_4afa6052_d8e4_11e9_a30f_f07960081566row3_col2\" class=\"data row3 col2\" >$1,114.06</td>\n",
       "                        <td id=\"T_4afa6052_d8e4_11e9_a30f_f07960081566row3_col3\" class=\"data row3 col3\" >$3.05</td>\n",
       "            </tr>\n",
       "            <tr>\n",
       "                        <th id=\"T_4afa6052_d8e4_11e9_a30f_f07960081566level0_row4\" class=\"row_heading level0 row4\" >25 - 29</th>\n",
       "                        <td id=\"T_4afa6052_d8e4_11e9_a30f_f07960081566row4_col0\" class=\"data row4 col0\" >101</td>\n",
       "                        <td id=\"T_4afa6052_d8e4_11e9_a30f_f07960081566row4_col1\" class=\"data row4 col1\" >$2.90</td>\n",
       "                        <td id=\"T_4afa6052_d8e4_11e9_a30f_f07960081566row4_col2\" class=\"data row4 col2\" >$293.00</td>\n",
       "                        <td id=\"T_4afa6052_d8e4_11e9_a30f_f07960081566row4_col3\" class=\"data row4 col3\" >$2.90</td>\n",
       "            </tr>\n",
       "            <tr>\n",
       "                        <th id=\"T_4afa6052_d8e4_11e9_a30f_f07960081566level0_row5\" class=\"row_heading level0 row5\" >30 - 34</th>\n",
       "                        <td id=\"T_4afa6052_d8e4_11e9_a30f_f07960081566row5_col0\" class=\"data row5 col0\" >73</td>\n",
       "                        <td id=\"T_4afa6052_d8e4_11e9_a30f_f07960081566row5_col1\" class=\"data row5 col1\" >$2.93</td>\n",
       "                        <td id=\"T_4afa6052_d8e4_11e9_a30f_f07960081566row5_col2\" class=\"data row5 col2\" >$214.00</td>\n",
       "                        <td id=\"T_4afa6052_d8e4_11e9_a30f_f07960081566row5_col3\" class=\"data row5 col3\" >$2.93</td>\n",
       "            </tr>\n",
       "            <tr>\n",
       "                        <th id=\"T_4afa6052_d8e4_11e9_a30f_f07960081566level0_row6\" class=\"row_heading level0 row6\" >35 - 39</th>\n",
       "                        <td id=\"T_4afa6052_d8e4_11e9_a30f_f07960081566row6_col0\" class=\"data row6 col0\" >41</td>\n",
       "                        <td id=\"T_4afa6052_d8e4_11e9_a30f_f07960081566row6_col1\" class=\"data row6 col1\" >$3.60</td>\n",
       "                        <td id=\"T_4afa6052_d8e4_11e9_a30f_f07960081566row6_col2\" class=\"data row6 col2\" >$147.67</td>\n",
       "                        <td id=\"T_4afa6052_d8e4_11e9_a30f_f07960081566row6_col3\" class=\"data row6 col3\" >$3.60</td>\n",
       "            </tr>\n",
       "            <tr>\n",
       "                        <th id=\"T_4afa6052_d8e4_11e9_a30f_f07960081566level0_row7\" class=\"row_heading level0 row7\" >40+</th>\n",
       "                        <td id=\"T_4afa6052_d8e4_11e9_a30f_f07960081566row7_col0\" class=\"data row7 col0\" >13</td>\n",
       "                        <td id=\"T_4afa6052_d8e4_11e9_a30f_f07960081566row7_col1\" class=\"data row7 col1\" >$2.94</td>\n",
       "                        <td id=\"T_4afa6052_d8e4_11e9_a30f_f07960081566row7_col2\" class=\"data row7 col2\" >$38.24</td>\n",
       "                        <td id=\"T_4afa6052_d8e4_11e9_a30f_f07960081566row7_col3\" class=\"data row7 col3\" >$2.94</td>\n",
       "            </tr>\n",
       "    </tbody></table>"
      ],
      "text/plain": [
       "<pandas.io.formats.style.Styler at 0x11355c4a8>"
      ]
     },
     "execution_count": 18,
     "metadata": {},
     "output_type": "execute_result"
    }
   ],
   "source": [
    "#Purchase Analysis by Age \n",
    "bins = [0, 9, 14, 19, 24, 29, 34, 39, 45]\n",
    "bin_labels = [\"<10\", \"10 - 14\", \"15 - 19\", \"20 - 24\", \"25 - 29\", \"30 - 34\", \"35 - 39\", \"40+\"]\n",
    "\n",
    "purchase_data[\"Age Group\"] = pd.cut(purchase_data[\"Age\"], bins=bins, labels=bin_labels)\n",
    "purchase_data\n",
    "\n",
    "purchase_data_group = purchase_data.groupby(\"Age Group\")\n",
    "purchase_data_group\n",
    "\n",
    "purchase_count_age = purchase_data_group[\"Purchase ID\"].count()\n",
    "avg_purchase_price = purchase_data_group[\"Price\"].mean()\n",
    "total_purchase_value = purchase_data_group[\"Price\"].sum()\n",
    "avg_purchase_person = total_purchase_value/purchase_count_age\n",
    "\n",
    "age_purchase_analysis = pd.DataFrame({\"Purchase Count\": purchase_count_age, \n",
    "                                      \"Avg Purchase Price\": avg_purchase_price,\n",
    "                                      \"Total Purchase Value\": total_purchase_value, \n",
    "                                      \"Avg Total Purchase per Person\": avg_purchase_person})\n",
    "age_purchase_analysis.index.name = None\n",
    "\n",
    "# Format with currency style\n",
    "age_purchase_analysis.style.format({\"Avg Purchase Price\":\"${:,.2f}\",\n",
    "                               \"Total Purchase Value\":\"${:,.2f}\",\n",
    "                               \"Avg Total Purchase per Person\":\"${:,.2f}\"})"
   ]
  },
  {
   "cell_type": "code",
   "execution_count": 19,
   "metadata": {},
   "outputs": [
    {
     "data": {
      "text/html": [
       "<style  type=\"text/css\" >\n",
       "</style><table id=\"T_4aff835c_d8e4_11e9_a30f_f07960081566\" ><thead>    <tr>        <th class=\"blank level0\" ></th>        <th class=\"col_heading level0 col0\" >Purchase Count</th>        <th class=\"col_heading level0 col1\" >Average Purchase Price</th>        <th class=\"col_heading level0 col2\" >Total Purchase Value per Person</th>    </tr>    <tr>        <th class=\"index_name level0\" >SN</th>        <th class=\"blank\" ></th>        <th class=\"blank\" ></th>        <th class=\"blank\" ></th>    </tr></thead><tbody>\n",
       "                <tr>\n",
       "                        <th id=\"T_4aff835c_d8e4_11e9_a30f_f07960081566level0_row0\" class=\"row_heading level0 row0\" >Lisosia93</th>\n",
       "                        <td id=\"T_4aff835c_d8e4_11e9_a30f_f07960081566row0_col0\" class=\"data row0 col0\" >5</td>\n",
       "                        <td id=\"T_4aff835c_d8e4_11e9_a30f_f07960081566row0_col1\" class=\"data row0 col1\" >$3.79</td>\n",
       "                        <td id=\"T_4aff835c_d8e4_11e9_a30f_f07960081566row0_col2\" class=\"data row0 col2\" >$18.96</td>\n",
       "            </tr>\n",
       "            <tr>\n",
       "                        <th id=\"T_4aff835c_d8e4_11e9_a30f_f07960081566level0_row1\" class=\"row_heading level0 row1\" >Idastidru52</th>\n",
       "                        <td id=\"T_4aff835c_d8e4_11e9_a30f_f07960081566row1_col0\" class=\"data row1 col0\" >4</td>\n",
       "                        <td id=\"T_4aff835c_d8e4_11e9_a30f_f07960081566row1_col1\" class=\"data row1 col1\" >$3.86</td>\n",
       "                        <td id=\"T_4aff835c_d8e4_11e9_a30f_f07960081566row1_col2\" class=\"data row1 col2\" >$15.45</td>\n",
       "            </tr>\n",
       "            <tr>\n",
       "                        <th id=\"T_4aff835c_d8e4_11e9_a30f_f07960081566level0_row2\" class=\"row_heading level0 row2\" >Chamjask73</th>\n",
       "                        <td id=\"T_4aff835c_d8e4_11e9_a30f_f07960081566row2_col0\" class=\"data row2 col0\" >3</td>\n",
       "                        <td id=\"T_4aff835c_d8e4_11e9_a30f_f07960081566row2_col1\" class=\"data row2 col1\" >$4.61</td>\n",
       "                        <td id=\"T_4aff835c_d8e4_11e9_a30f_f07960081566row2_col2\" class=\"data row2 col2\" >$13.83</td>\n",
       "            </tr>\n",
       "            <tr>\n",
       "                        <th id=\"T_4aff835c_d8e4_11e9_a30f_f07960081566level0_row3\" class=\"row_heading level0 row3\" >Iral74</th>\n",
       "                        <td id=\"T_4aff835c_d8e4_11e9_a30f_f07960081566row3_col0\" class=\"data row3 col0\" >4</td>\n",
       "                        <td id=\"T_4aff835c_d8e4_11e9_a30f_f07960081566row3_col1\" class=\"data row3 col1\" >$3.40</td>\n",
       "                        <td id=\"T_4aff835c_d8e4_11e9_a30f_f07960081566row3_col2\" class=\"data row3 col2\" >$13.62</td>\n",
       "            </tr>\n",
       "            <tr>\n",
       "                        <th id=\"T_4aff835c_d8e4_11e9_a30f_f07960081566level0_row4\" class=\"row_heading level0 row4\" >Iskadarya95</th>\n",
       "                        <td id=\"T_4aff835c_d8e4_11e9_a30f_f07960081566row4_col0\" class=\"data row4 col0\" >3</td>\n",
       "                        <td id=\"T_4aff835c_d8e4_11e9_a30f_f07960081566row4_col1\" class=\"data row4 col1\" >$4.37</td>\n",
       "                        <td id=\"T_4aff835c_d8e4_11e9_a30f_f07960081566row4_col2\" class=\"data row4 col2\" >$13.10</td>\n",
       "            </tr>\n",
       "    </tbody></table>"
      ],
      "text/plain": [
       "<pandas.io.formats.style.Styler at 0x1135288d0>"
      ]
     },
     "execution_count": 19,
     "metadata": {},
     "output_type": "execute_result"
    }
   ],
   "source": [
    "#top spenders \n",
    "top_spenders = purchase_data.groupby(\"SN\")\n",
    "count_top_spenders = top_spenders[\"Purchase ID\"].count()\n",
    "avg_pur_price_top_spenders = top_spenders[\"Price\"].mean()\n",
    "total_pur_value_top_spenders = top_spenders[\"Price\"].sum()\n",
    "\n",
    "top_spenders_df = pd.DataFrame({\"Purchase Count\": count_top_spenders,\n",
    "                               \"Average Purchase Price\": avg_pur_price_top_spenders,\n",
    "                               \"Total Purchase Value per Person\": \n",
    "                                total_pur_value_top_spenders})\n",
    "top_spenders_df_formatted = top_spenders_df.sort_values([\"Total Purchase Value per Person\"], \n",
    "                                                        ascending=False).head()\n",
    "\n",
    "top_spenders_df_formatted.style.format({\"Average Purchase Price\":\"${:,.2f}\",\n",
    "                                 \"Total Purchase Value per Person\":\"${:,.2f}\"})\n"
   ]
  },
  {
   "cell_type": "code",
   "execution_count": 20,
   "metadata": {},
   "outputs": [
    {
     "data": {
      "text/html": [
       "<style  type=\"text/css\" >\n",
       "</style><table id=\"T_4b054d1e_d8e4_11e9_a30f_f07960081566\" ><thead>    <tr>        <th class=\"blank\" ></th>        <th class=\"blank level0\" ></th>        <th class=\"col_heading level0 col0\" >Purchase Count</th>        <th class=\"col_heading level0 col1\" >Item Price</th>        <th class=\"col_heading level0 col2\" >Total Purchase Value</th>    </tr>    <tr>        <th class=\"index_name level0\" >Item ID</th>        <th class=\"index_name level1\" >Item Name</th>        <th class=\"blank\" ></th>        <th class=\"blank\" ></th>        <th class=\"blank\" ></th>    </tr></thead><tbody>\n",
       "                <tr>\n",
       "                        <th id=\"T_4b054d1e_d8e4_11e9_a30f_f07960081566level0_row0\" class=\"row_heading level0 row0\" >178</th>\n",
       "                        <th id=\"T_4b054d1e_d8e4_11e9_a30f_f07960081566level1_row0\" class=\"row_heading level1 row0\" >Oathbreaker, Last Hope of the Breaking Storm</th>\n",
       "                        <td id=\"T_4b054d1e_d8e4_11e9_a30f_f07960081566row0_col0\" class=\"data row0 col0\" >12</td>\n",
       "                        <td id=\"T_4b054d1e_d8e4_11e9_a30f_f07960081566row0_col1\" class=\"data row0 col1\" >$4.23</td>\n",
       "                        <td id=\"T_4b054d1e_d8e4_11e9_a30f_f07960081566row0_col2\" class=\"data row0 col2\" >$50.76</td>\n",
       "            </tr>\n",
       "            <tr>\n",
       "                        <th id=\"T_4b054d1e_d8e4_11e9_a30f_f07960081566level0_row1\" class=\"row_heading level0 row1\" >145</th>\n",
       "                        <th id=\"T_4b054d1e_d8e4_11e9_a30f_f07960081566level1_row1\" class=\"row_heading level1 row1\" >Fiery Glass Crusader</th>\n",
       "                        <td id=\"T_4b054d1e_d8e4_11e9_a30f_f07960081566row1_col0\" class=\"data row1 col0\" >9</td>\n",
       "                        <td id=\"T_4b054d1e_d8e4_11e9_a30f_f07960081566row1_col1\" class=\"data row1 col1\" >$4.58</td>\n",
       "                        <td id=\"T_4b054d1e_d8e4_11e9_a30f_f07960081566row1_col2\" class=\"data row1 col2\" >$41.22</td>\n",
       "            </tr>\n",
       "            <tr>\n",
       "                        <th id=\"T_4b054d1e_d8e4_11e9_a30f_f07960081566level0_row2\" class=\"row_heading level0 row2\" >108</th>\n",
       "                        <th id=\"T_4b054d1e_d8e4_11e9_a30f_f07960081566level1_row2\" class=\"row_heading level1 row2\" >Extraction, Quickblade Of Trembling Hands</th>\n",
       "                        <td id=\"T_4b054d1e_d8e4_11e9_a30f_f07960081566row2_col0\" class=\"data row2 col0\" >9</td>\n",
       "                        <td id=\"T_4b054d1e_d8e4_11e9_a30f_f07960081566row2_col1\" class=\"data row2 col1\" >$3.53</td>\n",
       "                        <td id=\"T_4b054d1e_d8e4_11e9_a30f_f07960081566row2_col2\" class=\"data row2 col2\" >$31.77</td>\n",
       "            </tr>\n",
       "            <tr>\n",
       "                        <th id=\"T_4b054d1e_d8e4_11e9_a30f_f07960081566level0_row3\" class=\"row_heading level0 row3\" >82</th>\n",
       "                        <th id=\"T_4b054d1e_d8e4_11e9_a30f_f07960081566level1_row3\" class=\"row_heading level1 row3\" >Nirvana</th>\n",
       "                        <td id=\"T_4b054d1e_d8e4_11e9_a30f_f07960081566row3_col0\" class=\"data row3 col0\" >9</td>\n",
       "                        <td id=\"T_4b054d1e_d8e4_11e9_a30f_f07960081566row3_col1\" class=\"data row3 col1\" >$4.90</td>\n",
       "                        <td id=\"T_4b054d1e_d8e4_11e9_a30f_f07960081566row3_col2\" class=\"data row3 col2\" >$44.10</td>\n",
       "            </tr>\n",
       "            <tr>\n",
       "                        <th id=\"T_4b054d1e_d8e4_11e9_a30f_f07960081566level0_row4\" class=\"row_heading level0 row4\" >19</th>\n",
       "                        <th id=\"T_4b054d1e_d8e4_11e9_a30f_f07960081566level1_row4\" class=\"row_heading level1 row4\" >Pursuit, Cudgel of Necromancy</th>\n",
       "                        <td id=\"T_4b054d1e_d8e4_11e9_a30f_f07960081566row4_col0\" class=\"data row4 col0\" >8</td>\n",
       "                        <td id=\"T_4b054d1e_d8e4_11e9_a30f_f07960081566row4_col1\" class=\"data row4 col1\" >$1.02</td>\n",
       "                        <td id=\"T_4b054d1e_d8e4_11e9_a30f_f07960081566row4_col2\" class=\"data row4 col2\" >$8.16</td>\n",
       "            </tr>\n",
       "    </tbody></table>"
      ],
      "text/plain": [
       "<pandas.io.formats.style.Styler at 0x1135b1898>"
      ]
     },
     "execution_count": 20,
     "metadata": {},
     "output_type": "execute_result"
    }
   ],
   "source": [
    "#popular items\n",
    "item_df = purchase_data[[\"Item ID\", \"Item Name\", \"Price\"]]\n",
    "item_df_group = item_df.groupby([\"Item ID\", \"Item Name\"])\n",
    "\n",
    "item_count = item_df_group[\"Price\"].count()\n",
    "total_item_value = (item_df_group[\"Price\"].sum())\n",
    "\n",
    "price_per_item = total_item_value/item_count\n",
    "\n",
    "pop_item = pd.DataFrame({\"Purchase Count\": item_count,\n",
    "                       \"Item Price\": price_per_item,\n",
    "                       \"Total Purchase Value\": total_item_value})\n",
    "pop_item_sorted = pop_item.sort_values([\"Purchase Count\"],\n",
    "                                      ascending=False).head()\n",
    "\n",
    "pop_item_sorted.style.format({\"Item Price\": \"${:,.2f}\",\n",
    "                               \"Item Price\":\"${:,.2f}\",\n",
    "                              \"Total Purchase Value\": \"${:,.2f}\"})"
   ]
  },
  {
   "cell_type": "code",
   "execution_count": 21,
   "metadata": {},
   "outputs": [
    {
     "data": {
      "text/html": [
       "<style  type=\"text/css\" >\n",
       "</style><table id=\"T_4b094d74_d8e4_11e9_a30f_f07960081566\" ><thead>    <tr>        <th class=\"blank\" ></th>        <th class=\"blank level0\" ></th>        <th class=\"col_heading level0 col0\" >Purchase Count</th>        <th class=\"col_heading level0 col1\" >Item Price</th>        <th class=\"col_heading level0 col2\" >Total Purchase Value</th>    </tr>    <tr>        <th class=\"index_name level0\" >Item ID</th>        <th class=\"index_name level1\" >Item Name</th>        <th class=\"blank\" ></th>        <th class=\"blank\" ></th>        <th class=\"blank\" ></th>    </tr></thead><tbody>\n",
       "                <tr>\n",
       "                        <th id=\"T_4b094d74_d8e4_11e9_a30f_f07960081566level0_row0\" class=\"row_heading level0 row0\" >178</th>\n",
       "                        <th id=\"T_4b094d74_d8e4_11e9_a30f_f07960081566level1_row0\" class=\"row_heading level1 row0\" >Oathbreaker, Last Hope of the Breaking Storm</th>\n",
       "                        <td id=\"T_4b094d74_d8e4_11e9_a30f_f07960081566row0_col0\" class=\"data row0 col0\" >12</td>\n",
       "                        <td id=\"T_4b094d74_d8e4_11e9_a30f_f07960081566row0_col1\" class=\"data row0 col1\" >$4.23</td>\n",
       "                        <td id=\"T_4b094d74_d8e4_11e9_a30f_f07960081566row0_col2\" class=\"data row0 col2\" >$50.76</td>\n",
       "            </tr>\n",
       "            <tr>\n",
       "                        <th id=\"T_4b094d74_d8e4_11e9_a30f_f07960081566level0_row1\" class=\"row_heading level0 row1\" >82</th>\n",
       "                        <th id=\"T_4b094d74_d8e4_11e9_a30f_f07960081566level1_row1\" class=\"row_heading level1 row1\" >Nirvana</th>\n",
       "                        <td id=\"T_4b094d74_d8e4_11e9_a30f_f07960081566row1_col0\" class=\"data row1 col0\" >9</td>\n",
       "                        <td id=\"T_4b094d74_d8e4_11e9_a30f_f07960081566row1_col1\" class=\"data row1 col1\" >$4.90</td>\n",
       "                        <td id=\"T_4b094d74_d8e4_11e9_a30f_f07960081566row1_col2\" class=\"data row1 col2\" >$44.10</td>\n",
       "            </tr>\n",
       "            <tr>\n",
       "                        <th id=\"T_4b094d74_d8e4_11e9_a30f_f07960081566level0_row2\" class=\"row_heading level0 row2\" >145</th>\n",
       "                        <th id=\"T_4b094d74_d8e4_11e9_a30f_f07960081566level1_row2\" class=\"row_heading level1 row2\" >Fiery Glass Crusader</th>\n",
       "                        <td id=\"T_4b094d74_d8e4_11e9_a30f_f07960081566row2_col0\" class=\"data row2 col0\" >9</td>\n",
       "                        <td id=\"T_4b094d74_d8e4_11e9_a30f_f07960081566row2_col1\" class=\"data row2 col1\" >$4.58</td>\n",
       "                        <td id=\"T_4b094d74_d8e4_11e9_a30f_f07960081566row2_col2\" class=\"data row2 col2\" >$41.22</td>\n",
       "            </tr>\n",
       "            <tr>\n",
       "                        <th id=\"T_4b094d74_d8e4_11e9_a30f_f07960081566level0_row3\" class=\"row_heading level0 row3\" >92</th>\n",
       "                        <th id=\"T_4b094d74_d8e4_11e9_a30f_f07960081566level1_row3\" class=\"row_heading level1 row3\" >Final Critic</th>\n",
       "                        <td id=\"T_4b094d74_d8e4_11e9_a30f_f07960081566row3_col0\" class=\"data row3 col0\" >8</td>\n",
       "                        <td id=\"T_4b094d74_d8e4_11e9_a30f_f07960081566row3_col1\" class=\"data row3 col1\" >$4.88</td>\n",
       "                        <td id=\"T_4b094d74_d8e4_11e9_a30f_f07960081566row3_col2\" class=\"data row3 col2\" >$39.04</td>\n",
       "            </tr>\n",
       "            <tr>\n",
       "                        <th id=\"T_4b094d74_d8e4_11e9_a30f_f07960081566level0_row4\" class=\"row_heading level0 row4\" >103</th>\n",
       "                        <th id=\"T_4b094d74_d8e4_11e9_a30f_f07960081566level1_row4\" class=\"row_heading level1 row4\" >Singed Scalpel</th>\n",
       "                        <td id=\"T_4b094d74_d8e4_11e9_a30f_f07960081566row4_col0\" class=\"data row4 col0\" >8</td>\n",
       "                        <td id=\"T_4b094d74_d8e4_11e9_a30f_f07960081566row4_col1\" class=\"data row4 col1\" >$4.35</td>\n",
       "                        <td id=\"T_4b094d74_d8e4_11e9_a30f_f07960081566row4_col2\" class=\"data row4 col2\" >$34.80</td>\n",
       "            </tr>\n",
       "    </tbody></table>"
      ],
      "text/plain": [
       "<pandas.io.formats.style.Styler at 0x11356b2e8>"
      ]
     },
     "execution_count": 21,
     "metadata": {},
     "output_type": "execute_result"
    }
   ],
   "source": [
    "#profitable items \n",
    "pop_item_sorted = pop_item.sort_values([\"Total Purchase Value\"],\n",
    "                                      ascending=False).head()\n",
    "# Format with currency style\n",
    "pop_item_sorted.style.format({\"Item Price\":\"${:,.2f}\",\n",
    "                                \"Total Purchase Value\":\"${:,.2f}\"})"
   ]
  },
  {
   "cell_type": "code",
   "execution_count": null,
   "metadata": {},
   "outputs": [],
   "source": [
    "print(\"\")"
   ]
  }
 ],
 "metadata": {
  "kernelspec": {
   "display_name": "Python 3",
   "language": "python",
   "name": "python3"
  },
  "language_info": {
   "codemirror_mode": {
    "name": "ipython",
    "version": 3
   },
   "file_extension": ".py",
   "mimetype": "text/x-python",
   "name": "python",
   "nbconvert_exporter": "python",
   "pygments_lexer": "ipython3",
   "version": "3.7.3"
  }
 },
 "nbformat": 4,
 "nbformat_minor": 2
}
